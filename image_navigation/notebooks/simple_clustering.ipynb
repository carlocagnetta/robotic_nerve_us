{
 "cells": [
  {
   "cell_type": "markdown",
   "metadata": {},
   "source": [
    "# Linear Sweep Search\n",
    "\n",
    "In this file I develop an algorithm to search the carpal tunnel along one axis using a simple clustering algorithm"
   ]
  },
  {
   "cell_type": "code",
   "execution_count": null,
   "metadata": {},
   "outputs": [],
   "source": [
    "# import\n",
    "import sys\n",
    "sys.path.append('../')\n",
    "\n",
    "import logging\n",
    "import numpy as np\n",
    "import nibabel as nib\n",
    "import matplotlib.pyplot as plt\n",
    "\n",
    "from nibabel.testing import data_path\n",
    "from scipy.ndimage import label\n",
    "\n",
    "from visualization_utils import show, show_slices \n",
    "from tissue_clustering import Tissues\n",
    "\n",
    "# Set up the logger\n",
    "logging.basicConfig(level=logging.INFO)\n",
    "logger = logging.getLogger()"
   ]
  },
  {
   "cell_type": "markdown",
   "metadata": {},
   "source": [
    "Load the dataset"
   ]
  },
  {
   "cell_type": "code",
   "execution_count": null,
   "metadata": {},
   "outputs": [],
   "source": [
    "mri_1_label = nib.load('../MRI/Labels/final/LabelsDani.nii')\n",
    "mri_1_label_data = mri_1_label.get_fdata()\n",
    "mri_1_label_data.shape"
   ]
  },
  {
   "cell_type": "code",
   "execution_count": null,
   "metadata": {},
   "outputs": [],
   "source": [
    "show_slices(mri_1_label_data,  mri_1_label_data.shape[1]-170, 5, 5)"
   ]
  },
  {
   "cell_type": "code",
   "execution_count": null,
   "metadata": {},
   "outputs": [],
   "source": [
    "show_slices(data=mri_1_label_data,  start=690, end=20, lap=1)"
   ]
  },
  {
   "cell_type": "code",
   "execution_count": null,
   "metadata": {},
   "outputs": [],
   "source": [
    "np.savetxt(\"..\\outputs\\carpal_values.txt\", mri_1_label_data[:, 679, :], fmt='%.3f')"
   ]
  },
  {
   "cell_type": "code",
   "execution_count": null,
   "metadata": {},
   "outputs": [],
   "source": [
    "tissues = { \"bones\": 20,\n",
    "            \"tendins\": 2,\n",
    "            \"ulnar\": 3,}"
   ]
  },
  {
   "cell_type": "code",
   "execution_count": null,
   "metadata": {},
   "outputs": [],
   "source": [
    "tissuesClass = Tissues(tissues_dict=tissues)\n",
    "tissuesClass.get_tissues()"
   ]
  },
  {
   "cell_type": "code",
   "execution_count": null,
   "metadata": {},
   "outputs": [],
   "source": [
    "def find_clusters(tissue_value: int, slice: np.ndarray) -> list[dict]:\n",
    "    # Create a binary mask based on the threshold\n",
    "    binary_mask = (slice == tissue_value)\n",
    "\n",
    "    # Check if there are tissues with given label\n",
    "    if np.all(binary_mask == False):\n",
    "        print(\"No tissues to cluster. Please set values using set_values method.\")\n",
    "        return []\n",
    "\n",
    "    # Label connected components in the binary mask\n",
    "    labeled_array, num_clusters = label(binary_mask)\n",
    "\n",
    "    # Extract clusters and their centers\n",
    "    cluster_data = []\n",
    "    \n",
    "    for cluster_label in range(num_clusters):\n",
    "        cluster_indices = np.where(labeled_array == cluster_label+1)\n",
    "        # Calculate the center of the cluster\n",
    "        center_x = np.mean(cluster_indices[0])\n",
    "        center_y = np.mean(cluster_indices[1])\n",
    "        center = (center_x, center_y)\n",
    "\n",
    "        # Save both the cluster and center under the same key\n",
    "        cluster_data.append({'cluster': np.array(list(zip(cluster_indices[0], cluster_indices[1]))),\n",
    "                             'center': center})\n",
    "\n",
    "    return cluster_data"
   ]
  },
  {
   "cell_type": "code",
   "execution_count": null,
   "metadata": {},
   "outputs": [],
   "source": [
    "def cluster_iter(tissues: dict, slice: np.ndarray) -> dict:\n",
    "    # store clsuters of tissues in a dict\n",
    "    tissues_clusters = {}\n",
    "    \n",
    "    for tissue in tissues:\n",
    "        print(f\"Finding {tissue} clusters, with value {tissues[tissue]}:\")\n",
    "        tissues_clusters[tissue] = (find_clusters(tissues[tissue], slice))\n",
    "\n",
    "        print(f\"Found {len(tissues_clusters[tissue])} clusters\\n\")\n",
    "    print(\"---------------------------------------\\n\")     \n",
    "    return tissues_clusters"
   ]
  },
  {
   "cell_type": "code",
   "execution_count": null,
   "metadata": {},
   "outputs": [],
   "source": [
    "def show_cluster_centers(tissue_clusters: dict, slice: np.ndarray) -> None:\n",
    "\n",
    "    for tissue in tissue_clusters:\n",
    "        for label, data in enumerate(tissue_clusters[tissue]):\n",
    "            # plot clusters with different colors\n",
    "            plt.scatter(*data['center'], color='red', marker='*', s=20) # plot centers\n",
    "\n",
    "    plt.imshow(slice.T, aspect=6, origin='lower')"
   ]
  },
  {
   "cell_type": "code",
   "execution_count": null,
   "metadata": {},
   "outputs": [],
   "source": [
    "def show_clusters(tissue_clusters: dict, slice: np.ndarray) -> None:\n",
    "    # create an empty array for cluster labels\n",
    "    cluster_labels = slice.copy()\n",
    "\n",
    "    for tissue in tissue_clusters:\n",
    "        for label, data in enumerate(tissue_clusters[tissue]):\n",
    "            # plot clusters with different colors\n",
    "            cluster_labels[tuple(data['cluster'].T)] = (label + 1)*10\n",
    "            plt.scatter(*data['center'], color='red', marker='*', s=20) # plot centers\n",
    "    plt.imshow(cluster_labels.T, aspect=6, origin='lower')"
   ]
  },
  {
   "cell_type": "code",
   "execution_count": null,
   "metadata": {},
   "outputs": [],
   "source": [
    "def show_only_clusters(tissue_clusters: dict, slice: np.ndarray) -> None:\n",
    "    # create an empty array for cluster labels\n",
    "    cluster_labels = np.ones_like(slice) * 0\n",
    "\n",
    "    for tissue in tissue_clusters:\n",
    "        for label, data in enumerate(tissue_clusters[tissue]):\n",
    "            # plot clusters with different colors\n",
    "            cluster_labels[tuple(data['cluster'].T)] = (label + 1)*10\n",
    "            plt.scatter(*data['center'], color='red', marker='*', s=20) # plot centers\n",
    "\n",
    "    plt.imshow(cluster_labels.T, aspect=6, origin='lower')"
   ]
  },
  {
   "cell_type": "code",
   "execution_count": null,
   "metadata": {},
   "outputs": [],
   "source": [
    "clusters_679 = cluster_iter(tissues, mri_1_label_data[:, 679, :])\n",
    "show_clusters(clusters_679, mri_1_label_data[:, 679, :])\n",
    "plt.show()"
   ]
  },
  {
   "cell_type": "code",
   "execution_count": null,
   "metadata": {},
   "outputs": [],
   "source": [
    "# Draw a horizontal line at y=n\n",
    "plt.axhline(y=418, color='red', linestyle='--', label=f'Horizontal Line at y={418}')\n",
    "plt.axhline(y=601, color='red', linestyle='--', label=f'Horizontal Line at y={601}')\n",
    "plt.axhline(y=679, color='red', linestyle='--', label=f'Horizontal Line at y={679}')\n",
    "plt.axhline(y=739, color='red', linestyle='--', label=f'Horizontal Line at y={739}')\n",
    "\n",
    "\n",
    "plt.imshow(mri_1_label_data[:, :, 35].T, label='Hand')\n",
    "\n",
    "# Add labels and legend\n",
    "plt.xlabel('X-axis')\n",
    "plt.ylabel('Y-axis')\n",
    "plt.legend()\n",
    "\n",
    "plt.show()"
   ]
  },
  {
   "cell_type": "code",
   "execution_count": null,
   "metadata": {},
   "outputs": [],
   "source": [
    "clusters_418 = cluster_iter(tissues, mri_1_label_data[:, 418, :])\n",
    "show_clusters(clusters_418, mri_1_label_data[:, 418, :])"
   ]
  },
  {
   "cell_type": "code",
   "execution_count": null,
   "metadata": {},
   "outputs": [],
   "source": [
    "cluster_601 = cluster_iter(tissues, mri_1_label_data[:, 601, :])\n",
    "show_clusters(cluster_601, mri_1_label_data[:, 601, :])\n",
    "plt.show()\n",
    "cluster_739 = cluster_iter(tissues, mri_1_label_data[:, 739, :])\n",
    "show_clusters(cluster_739, mri_1_label_data[:, 739, :])\n",
    "plt.show()\n"
   ]
  },
  {
   "cell_type": "code",
   "execution_count": null,
   "metadata": {},
   "outputs": [],
   "source": [
    "def loss_fct(tissue_clusters: dict) -> float:\n",
    "\n",
    "    print('####################################################')\n",
    "    print(\"Calculating loss function:\")\n",
    "\n",
    "    # Presence of landmark tissues:\n",
    "    \n",
    "    # Standard plane has 7 bones, 2 tendins and 1 ulnar cluster\n",
    "    bones_loss = abs(len(tissue_clusters['bones']) - 7)\n",
    "    ligament_loss = abs(len(tissue_clusters['tendins']) - 2)\n",
    "    ulnar_loss = abs(len(tissue_clusters['ulnar']) - 1)\n",
    "\n",
    "    landmark_loss = bones_loss + ligament_loss + ulnar_loss\n",
    "\n",
    "    # Absence of landmarks:\n",
    "    missing_landmark_loss = 0\n",
    "\n",
    "    # Location of landmarks:\n",
    "    location_loss = 1\n",
    "\n",
    "    # There must be bones:\n",
    "    if len(tissue_clusters['bones'])!=0:\n",
    "        \n",
    "        # Get centers of tissue clusters:\n",
    "        bones_centers = [cluster['center'] for _, cluster in enumerate(tissue_clusters['bones'])]\n",
    "        bones_centers_mean = np.mean(bones_centers, axis=0)\n",
    "\n",
    "        # There must be tendins:\n",
    "        if len(tissue_clusters['tendins'])!=0:\n",
    "\n",
    "            # Get centers of tissue clusters:\n",
    "            ligament_centers = [cluster['center'] for _, cluster in enumerate(tissue_clusters['tendins'])]\n",
    "            ligament_centers_mean = np.mean(ligament_centers, axis=0)\n",
    "\n",
    "            # Check the orientation of the arm:\n",
    "            # The bones center might be over or undere the tendins center depending on the origin\n",
    "            if bones_centers_mean[1] > ligament_centers_mean[1]:\n",
    "                print(\"Orientation: bones over tendins\")\n",
    "                orientation = -1\n",
    "            else: \n",
    "                print(\"Orientation: bones under tendins\")\n",
    "                orientation = 1\n",
    "\n",
    "            # There must be one ulnar artery:\n",
    "            if len(tissue_clusters['ulnar'])==1:\n",
    "                \n",
    "                # There must be only one ulnar tissue so there is no need to take the mean\n",
    "                ulnar_center = tissue_clusters['ulnar'][0]['center']\n",
    "\n",
    "                # Ulnar artery must be over tendins in the positive orientation:\n",
    "                if orientation * ulnar_center[1] > orientation * ligament_centers_mean[1]: \n",
    "                    location_loss = 0\n",
    "                else: print(\"Ulnar center not where excpected\")\n",
    "            \n",
    "            # if no ulnar artery\n",
    "            else: \n",
    "                missing_landmark_loss = 1\n",
    "                print(\"No ulnar artery found\")\n",
    "        # if no tendins\n",
    "        else: \n",
    "            missing_landmark_loss = 2\n",
    "            print(\"No tendins found\")\n",
    "    # if no bones:\n",
    "    else: \n",
    "        missing_landmark_loss = 3\n",
    "        print(\"No bones found\")\n",
    "\n",
    "    # Loss is bounded between 0 and 1\n",
    "    loss = (1/3)*(0.1*landmark_loss + (1/3)*missing_landmark_loss + location_loss)\n",
    "\n",
    "    print(f\"Landmark loss: {landmark_loss}\")\n",
    "    print(f\"Missing landmark loss: {missing_landmark_loss}\")\n",
    "    print(f\"Location loss: {location_loss}\")\n",
    "    print(f\"Total loss: {loss}\")\n",
    "\n",
    "    print('#################################################### \\n')\n",
    "\n",
    "    return loss"
   ]
  },
  {
   "cell_type": "code",
   "execution_count": null,
   "metadata": {},
   "outputs": [],
   "source": [
    "clusters_679 = cluster_iter(tissues, mri_1_label_data[:, 679, :])\n",
    "\n",
    "bones_centers = [cluster['center'] for _, cluster in enumerate(clusters_679['bones'])]\n",
    "ligament_centers = [cluster['center'] for _, cluster in enumerate(clusters_679['tendins'])]\n",
    "\n",
    "bones_center = np.mean(bones_centers, axis=0)\n",
    "print(\"bones_center: \", bones_center)\n",
    "ligament_center = np.mean(ligament_centers, axis=0)\n",
    "print(\"ligament_center: \", ligament_center)\n",
    "print(np.shape(clusters_679['ulnar']))\n",
    "ulnar_center = clusters_679['ulnar'][0]['center']\n",
    "print(\"ulnar_center: \", ulnar_center)"
   ]
  },
  {
   "cell_type": "code",
   "execution_count": null,
   "metadata": {},
   "outputs": [],
   "source": [
    "loss_fct(clusters_679)"
   ]
  },
  {
   "cell_type": "code",
   "execution_count": null,
   "metadata": {},
   "outputs": [],
   "source": [
    "sweep_loss = []\n",
    "\n",
    "for i in range(mri_1_label_data.shape[1]):\n",
    "    cluster = cluster_iter(tissues, mri_1_label_data[:, i, :])\n",
    "    sweep_loss.append(loss_fct(cluster))\n",
    "    print(f\"Loss for slice {i}: {sweep_loss[i]}\")\n",
    "    "
   ]
  },
  {
   "cell_type": "code",
   "execution_count": null,
   "metadata": {},
   "outputs": [],
   "source": [
    "# Plot the loss results over the length of the data\n",
    "plt.plot(range(len(sweep_loss)), sweep_loss, marker='o')\n",
    "\n",
    "# Add labels and title\n",
    "plt.xlabel('Data Length')\n",
    "plt.ylabel('Loss')\n",
    "plt.title('Loss Function Results')\n",
    "\n",
    "# Show the plot\n",
    "plt.show()"
   ]
  },
  {
   "cell_type": "code",
   "execution_count": null,
   "metadata": {},
   "outputs": [],
   "source": [
    "# Find indices where the loss is equal to 0\n",
    "zero_loss_indices = np.where(np.array(sweep_loss) == 0)[0]\n",
    "print(f\"{len(zero_loss_indices)} indices return a zero loss: \", zero_loss_indices)"
   ]
  },
  {
   "cell_type": "code",
   "execution_count": null,
   "metadata": {},
   "outputs": [],
   "source": [
    "# Create a subplot for each image with 0 loss\n",
    "fig, axes = plt.subplots(2, 4, figsize=(21, 6))\n",
    "\n",
    "axes = axes.flatten()\n",
    "for i, idx in enumerate(zero_loss_indices):\n",
    "    # Plot the image\n",
    "    axes[i].imshow(mri_1_label_data[:, idx, :].T, aspect=6)\n",
    "    axes[i].set_title(f'Index: {idx}, Loss: {sweep_loss[idx]:.2f}')\n",
    "    axes[i].axis('off')\n",
    "\n",
    "plt.show()"
   ]
  },
  {
   "cell_type": "code",
   "execution_count": null,
   "metadata": {},
   "outputs": [],
   "source": [
    "cluster_685 = cluster_iter(tissues, mri_1_label_data[:, 685, :])\n",
    "show_clusters(cluster_685, mri_1_label_data[:, 685, :])\n",
    "plt.show()\n",
    "\n",
    "cluster_691 = cluster_iter(tissues, mri_1_label_data[:, 691, :])\n",
    "show_clusters(cluster_691, mri_1_label_data[:, 691, :])\n",
    "plt.show()\n",
    "\n",
    "cluster_702 = cluster_iter(tissues, mri_1_label_data[:, 702, :])\n",
    "show_clusters(cluster_702, mri_1_label_data[:, 702, :])\n",
    "plt.show()"
   ]
  },
  {
   "cell_type": "markdown",
   "metadata": {},
   "source": [
    "The slices from 679:682 show good results.\n",
    "The slices right before or right after this optimal range are excluded because the loss function is strictly penalizing the cluster size of bones and tendins. \n",
    "In fact, 683:690 might all be accepted, but two bones clusters are too close to be distinguished.\n",
    "Same problem from 670:679, where the tendins form only one cluster instead of two.\n",
    "\n",
    "685 is an exception, since a small bones cluster is missclassified.\n",
    "\n",
    "691 and 702 are outliers that should be excluded by refining the loss function."
   ]
  },
  {
   "cell_type": "markdown",
   "metadata": {},
   "source": [
    "Another option is to develop a better clustering technique and retest the loss function on that."
   ]
  }
 ],
 "metadata": {
  "kernelspec": {
   "display_name": "med_im",
   "language": "python",
   "name": "python3"
  },
  "language_info": {
   "codemirror_mode": {
    "name": "ipython",
    "version": 3
   },
   "file_extension": ".py",
   "mimetype": "text/x-python",
   "name": "python",
   "nbconvert_exporter": "python",
   "pygments_lexer": "ipython3",
   "version": "3.9.18"
  }
 },
 "nbformat": 4,
 "nbformat_minor": 2
}
