{
 "cells": [
  {
   "cell_type": "markdown",
   "metadata": {},
   "source": [
    "# Slicing"
   ]
  },
  {
   "cell_type": "code",
   "execution_count": null,
   "metadata": {},
   "outputs": [],
   "source": [
    "# import\n",
    "import sys\n",
    "sys.path.append('../')\n",
    "\n",
    "import logging\n",
    "import numpy as np\n",
    "import nibabel as nib\n",
    "import matplotlib.pyplot as plt\n",
    "\n",
    "# Set up the logger\n",
    "logging.basicConfig(level=logging.INFO)\n",
    "logger = logging.getLogger()"
   ]
  },
  {
   "cell_type": "code",
   "execution_count": null,
   "metadata": {},
   "outputs": [],
   "source": [
    "mri_1_label = nib.load('..\\MRI\\Labels\\labels_00001.nii')\n",
    "mri_1_label_data = mri_1_label.get_fdata()\n",
    "mri_1_label_data.shape"
   ]
  },
  {
   "cell_type": "code",
   "execution_count": null,
   "metadata": {},
   "outputs": [],
   "source": [
    "# Visualize an image slice using simpleITK\n",
    "import SimpleITK as sitk\n",
    "\n",
    "# Load the image data\n",
    "volume = sitk.ReadImage('..\\MRI\\Labels\\labels_00001.nii')\n",
    "img_array = sitk.GetArrayFromImage(volume)\n",
    "\n",
    "# Take a 2D image slice\n",
    "slice_num = 670\n",
    "slice = img_array[:, slice_num, :]\n",
    "plt.imshow(slice, aspect=6)\n",
    "plt.show()"
   ]
  },
  {
   "cell_type": "code",
   "execution_count": null,
   "metadata": {},
   "outputs": [],
   "source": [
    "volume_size = volume.GetSize()\n",
    "img_size = img_array.shape\n",
    "\n",
    "print(f\" {volume_size=},\\n {img_size=}\")"
   ]
  },
  {
   "cell_type": "code",
   "execution_count": null,
   "metadata": {},
   "outputs": [],
   "source": [
    "# Euler transformation\n",
    "# Rotation is defined by three rotations around z1, x2, z2 axis\n",
    "th_z1 = np.deg2rad(20)\n",
    "th_x2 = np.deg2rad(0)\n",
    "\n",
    "# Translation vector\n",
    "o = np.array(volume.GetOrigin())\n",
    "\n",
    "# transformation simplified at z2=0 since this rotation is never performed\n",
    "eul_tr = np.array([ [np.cos(th_z1), -np.sin(th_z1)*np.cos(th_x2),  np.sin(th_z1)*np.sin(th_x2), o[0]],\n",
    "                    [np.sin(th_z1),  np.cos(th_z1)*np.cos(th_x2), -np.cos(th_z1)*np.sin(th_x2), o[1]+140],\n",
    "                    [0,              np.sin(th_x2),                np.cos(th_x2),               o[2]],\n",
    "                    [0,              0,                            0,                           1]])\n"
   ]
  },
  {
   "cell_type": "code",
   "execution_count": null,
   "metadata": {},
   "outputs": [],
   "source": [
    "# Define plane's coordinate system\n",
    "e1 = eul_tr[0][:3] # x-coordinate of image plane\n",
    "e2 = eul_tr[1][:3] # y-coordinate of image plane\n",
    "e3 = eul_tr[2][:3] # normal vector of image plane\n",
    "origin = eul_tr[:, -1:].flatten()[:3] # origin of the image plane\n",
    "\n",
    "print(f\" {e1=},\\n {e2=},\\n {e3=},\\n {origin=}\")\n",
    "\n",
    "# Direction for the resampler will be (e1, e2, e3) flattened\n",
    "direction = np.stack([e1, e2, e3], axis=0).flatten()\n",
    "print(f\" {direction=}\")"
   ]
  },
  {
   "cell_type": "code",
   "execution_count": null,
   "metadata": {},
   "outputs": [],
   "source": [
    "# Define the size and resolution of the output image\n",
    "# height of the image plane: original z size divided by the z component of the normal vector\n",
    "# (cosine of the angle between the normal vector and the z axis: x-rotation)\n",
    "h = int(abs(volume_size[2]//e3[2]))\n",
    "# width of the image plane: original x size divided by the x component of the normal vector\n",
    "# (cosine of the angle between the normal vector and the x axis: z-rotation) \n",
    "w = int(abs(volume_size[0]//e1[0]))\n",
    "\n",
    "\n",
    "print(f\" {h=},\\n {w=}\") "
   ]
  },
  {
   "cell_type": "code",
   "execution_count": null,
   "metadata": {},
   "outputs": [],
   "source": [
    "# Use SimpleITK's resampler\n",
    "resampler = sitk.ResampleImageFilter()\n",
    "# Extract properties from the SimpleITK Image\n",
    "spacing = volume.GetSpacing()\n",
    "\n",
    "# use reference image\n",
    "# resampler.SetReferenceImage(volume)\n",
    "resampler.SetOutputDirection(direction.tolist())\n",
    "resampler.SetOutputOrigin(origin.tolist())\n",
    "resampler.SetOutputSpacing(spacing)\n",
    "resampler.SetSize((w, 3, h))\n",
    "resampler.SetInterpolator(sitk.sitkNearestNeighbor)"
   ]
  },
  {
   "cell_type": "code",
   "execution_count": null,
   "metadata": {},
   "outputs": [],
   "source": [
    "# Resample the volume on the arbitrary plane\n",
    "sliced_volume = resampler.Execute(volume)\n",
    "\n",
    "# Convert the image to a numpy array\n",
    "sliced_img = sitk.GetArrayFromImage(sliced_volume)\n",
    "# print value range of slice\n",
    "print(f\"Slice value range: {np.min(sliced_img)} - {np.max(sliced_img)}\")\n",
    "\n",
    "sitk.WriteImage(sliced_volume, \"../outputs/sliced_volume.nii.gz\")"
   ]
  },
  {
   "cell_type": "code",
   "execution_count": null,
   "metadata": {},
   "outputs": [],
   "source": [
    "sliced_volume_size = sliced_volume.GetSize()\n",
    "sliced_img_size = sliced_img.shape\n",
    "\n",
    "print(f\" {sliced_volume_size=},\\n {volume_size=},\\n {sliced_img_size=},\\n {img_size=}\")"
   ]
  },
  {
   "cell_type": "code",
   "execution_count": null,
   "metadata": {},
   "outputs": [],
   "source": [
    "print(origin)\n",
    "origin_idx = volume.TransformPhysicalPointToIndex(origin)\n",
    "print(origin_idx)\n",
    "slice = sliced_img[:, 0, :]\n",
    "plt.imshow(slice, aspect=6)\n",
    "plt.scatter(origin_idx[0], origin_idx[2], c='r', marker='*', s=20)\n",
    "plt.show()"
   ]
  },
  {
   "cell_type": "code",
   "execution_count": null,
   "metadata": {},
   "outputs": [],
   "source": [
    "def slice_volume(z_rotation: float, x_rotation: float, translation: np.ndarray[4,4], volume: sitk.Image) -> (np.ndarray[4,4], sitk.Image):\n",
    "    \"\"\"\n",
    "    Slice a 3D volume with arbitrary rotation and translation\n",
    "    :param z_rotation: rotation around z-axis in degrees\n",
    "    :param x_rotation: rotation around x-axis in degrees\n",
    "    :param translation: translation vector\n",
    "    :param volume: 3D volume to be sliced\n",
    "    :return: Euler transformation matrix and the sliced volume\n",
    "    \"\"\"\n",
    "\n",
    "    # Euler transformation\n",
    "    # Rotation is defined by three rotations around z1, x2, z2 axis\n",
    "    th_z1 = np.deg2rad(z_rotation)\n",
    "    th_x2 = np.deg2rad(x_rotation)\n",
    "\n",
    "    o = np.array(volume.GetOrigin())\n",
    "    t = translation\n",
    "\n",
    "    # transformation simplified at z2=0 since this rotation is never performed\n",
    "    eul_tr = np.array([ [np.cos(th_z1), -np.sin(th_z1)*np.cos(th_x2),  np.sin(th_z1)*np.sin(th_x2), o[0]+t[0]],\n",
    "                        [np.sin(th_z1),  np.cos(th_z1)*np.cos(th_x2), -np.cos(th_z1)*np.sin(th_x2), o[1]+t[1]],\n",
    "                        [0,              np.sin(th_x2),                np.cos(th_x2),               o[2]+t[2]],\n",
    "                        [0,              0,                            0,                           1]])\n",
    "\n",
    "    # Define plane's coordinate system\n",
    "    e1 = eul_tr[0][:3]\n",
    "    e2 = eul_tr[1][:3]\n",
    "    e3 = eul_tr[2][:3]\n",
    "    img_o = eul_tr[:, -1:].flatten()[:3] # origin of the image plane\n",
    "\n",
    "    direction = np.stack([e1, e2, e3], axis=0).flatten()\n",
    "\n",
    "    resampler = sitk.ResampleImageFilter()\n",
    "    spacing = volume.GetSpacing()\n",
    "    volume_size = volume.GetSize()\n",
    "\n",
    "    # Define the size of the output image\n",
    "    # height of the image plane: original z size divided by cosine of x-rotation\n",
    "    h = int(abs(volume_size[2]//e3[2]))\n",
    "    # width of the image plane: original x size divided by cosine of z-rotation\n",
    "    w = int(abs(volume_size[0]//e1[0]))\n",
    "\n",
    "    resampler.SetOutputDirection(direction.tolist())\n",
    "    resampler.SetOutputOrigin(img_o.tolist())\n",
    "    resampler.SetOutputSpacing(spacing)\n",
    "    resampler.SetSize((w, 3, h))\n",
    "    resampler.SetInterpolator(sitk.sitkNearestNeighbor)\n",
    "\n",
    "    # Resample the volume on the arbitrary plane\n",
    "    sliced_volume = resampler.Execute(volume)\n",
    "\n",
    "    return eul_tr, sliced_volume"
   ]
  },
  {
   "cell_type": "code",
   "execution_count": null,
   "metadata": {},
   "outputs": [],
   "source": [
    "sliced_volume = slice_volume(z_rotation=19.3, x_rotation=0, translation=np.array([0, 140, 0]), volume=volume)\n",
    "sliced_img = sitk.GetArrayFromImage(sliced_volume[1])\n",
    "print(f\"Slice value range: {np.min(sliced_img)} - {np.max(sliced_img)}\")\n",
    "\n",
    "slice = sliced_img[:, 0, :]\n",
    "plt.imshow(slice, aspect=6)\n",
    "plt.scatter(origin_idx[0], origin_idx[2], c='r', marker='*', s=20)\n",
    "plt.show()"
   ]
  }
 ],
 "metadata": {
  "kernelspec": {
   "display_name": "med_im",
   "language": "python",
   "name": "python3"
  },
  "language_info": {
   "codemirror_mode": {
    "name": "ipython",
    "version": 3
   },
   "file_extension": ".py",
   "mimetype": "text/x-python",
   "name": "python",
   "nbconvert_exporter": "python",
   "pygments_lexer": "ipython3",
   "version": "3.9.18"
  }
 },
 "nbformat": 4,
 "nbformat_minor": 2
}
