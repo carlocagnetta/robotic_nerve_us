{
 "cells": [
  {
   "cell_type": "code",
   "execution_count": null,
   "metadata": {},
   "outputs": [],
   "source": [
    "# import\n",
    "import sys\n",
    "sys.path.append('../')\n",
    "\n",
    "import logging\n",
    "import SimpleITK as sitk\n",
    "import numpy as np\n",
    "import matplotlib.pyplot as plt\n",
    "\n",
    "from tissue_clustering import Tissues, find_DBSCAN_clusters\n",
    "from loss import loss_fct\n",
    "from visualization_utils import show_clusters, show_only_clusters\n",
    "from slicing import slice_volume"
   ]
  },
  {
   "cell_type": "code",
   "execution_count": null,
   "metadata": {},
   "outputs": [],
   "source": [
    "# Load the image data\n",
    "volume = sitk.ReadImage('..\\MRI\\Labels\\labels_00001.nii')\n",
    "img_array = sitk.GetArrayFromImage(volume)\n",
    "\n",
    "# Take a 2D image slice\n",
    "slice_num = 670\n",
    "slice = img_array[:, slice_num, :]\n",
    "plt.imshow(slice, aspect=6)\n",
    "plt.show()"
   ]
  },
  {
   "cell_type": "code",
   "execution_count": null,
   "metadata": {},
   "outputs": [],
   "source": [
    "tissues = { \"bones\": 20,\n",
    "            \"tendins\": 2,\n",
    "            \"ulnar\": 3,}\n",
    "tissuesClass = Tissues(tissues_dict=tissues)"
   ]
  },
  {
   "cell_type": "code",
   "execution_count": null,
   "metadata": {},
   "outputs": [],
   "source": [
    "slice = slice_volume(z_rotation=0., x_rotation=0., translation=[0, 160, 0], volume=volume)\n",
    "slice = sitk.GetArrayFromImage(slice)[:, 0, :]\n",
    "\n",
    "clusters = {}\n",
    "clusters['bones'] = find_DBSCAN_clusters(tissues['bones'], slice, eps=4.1, min_samples=46)\n",
    "clusters['tendins'] = find_DBSCAN_clusters(tissues['tendins'], slice, eps=4.1, min_samples=46)\n",
    "clusters['ulnar'] = find_DBSCAN_clusters(tissues['ulnar'], slice, eps=2.5, min_samples=18)\n",
    "show_clusters(clusters, slice)\n",
    "\n",
    "# Loss function\n",
    "loss = loss_fct(clusters)\n",
    "plt.text(0, 0, f\"Loss: {loss:.2f}\", fontsize=12, color='red')\n",
    "\n",
    "plt.show()\n"
   ]
  }
 ],
 "metadata": {
  "kernelspec": {
   "display_name": "med_im",
   "language": "python",
   "name": "python3"
  },
  "language_info": {
   "codemirror_mode": {
    "name": "ipython",
    "version": 3
   },
   "file_extension": ".py",
   "mimetype": "text/x-python",
   "name": "python",
   "nbconvert_exporter": "python",
   "pygments_lexer": "ipython3",
   "version": "3.9.18"
  }
 },
 "nbformat": 4,
 "nbformat_minor": 2
}
