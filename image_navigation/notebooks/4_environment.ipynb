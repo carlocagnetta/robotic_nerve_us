{
 "cells": [
  {
   "cell_type": "code",
   "execution_count": null,
   "metadata": {},
   "outputs": [],
   "source": [
    "# import\n",
    "import sys\n",
    "sys.path.append('../')\n",
    "\n",
    "import logging\n",
    "import SimpleITK as sitk\n",
    "import numpy as np\n",
    "import matplotlib.pyplot as plt\n",
    "\n",
    "from tissue_clustering import Tissues, find_DBSCAN_clusters\n",
    "from loss import loss_fct\n",
    "from visualization_utils import show_clusters, show_only_clusters\n",
    "from slicing import slice_volume"
   ]
  },
  {
   "cell_type": "code",
   "execution_count": null,
   "metadata": {},
   "outputs": [],
   "source": [
    "# Load the image data\n",
    "volume = sitk.ReadImage('..\\MRI\\Labels\\labels_00001.nii')\n",
    "img_array = sitk.GetArrayFromImage(volume)\n",
    "print(\"volume shape: \", volume.GetSize())\n",
    "print(\"img_array shape: \", img_array.shape)\n",
    "\n",
    "# Take a 2D image slice\n",
    "slice_num = 670\n",
    "slice = img_array[:, slice_num, :]\n",
    "plt.imshow(slice, origin='lower', aspect=6)\n",
    "plt.show()"
   ]
  },
  {
   "cell_type": "code",
   "execution_count": null,
   "metadata": {},
   "outputs": [],
   "source": [
    "tissues = { \"bones\": 1,\n",
    "            \"tendins\": 2,\n",
    "            \"ulnar\": 3,}\n",
    "tissuesClass = Tissues(tissues_dict=tissues)"
   ]
  },
  {
   "cell_type": "code",
   "execution_count": null,
   "metadata": {},
   "outputs": [],
   "source": [
    "print(\"origin of volume: \", volume.GetOrigin())\n",
    "print(\"world coordinates of index: \", volume.TransformContinuousIndexToPhysicalPoint((0, 670, 0)))"
   ]
  },
  {
   "cell_type": "code",
   "execution_count": null,
   "metadata": {},
   "outputs": [],
   "source": [
    "from matplotlib.animation import FuncAnimation\n",
    "\n",
    "t = [160, 155, 150, 148, 146, 142,  140, 140, 115, 120, 125, 125, 130, 130, 135, 138, 140, 140,  140]\n",
    "z = [  0,  -5,   0,   0,   5,  15, 19.3, -10,   0,   0,   0,   5,   -8,  8,   0, -10, -10,  10, 19.3]\n",
    "o = volume.GetOrigin()\n",
    "\n",
    "# Sample functions for demonstration\n",
    "def linear_function(x, m, b):\n",
    "  return m * x + b\n",
    "\n",
    "# Create a figure and a gridspec with two rows and two columns\n",
    "fig = plt.figure(constrained_layout=True, figsize=(8, 6))\n",
    "gs = fig.add_gridspec(2, 2)\n",
    "\n",
    "# Add subplots\n",
    "ax1 = fig.add_subplot(gs[:, 0])\n",
    "ax2 = fig.add_subplot(gs[0, 1])\n",
    "ax3 = fig.add_subplot(gs[1, 1])\n",
    "\n",
    "# Subplot 1: Image with dashed line\n",
    "ax1.imshow(img_array[40,:,:])\n",
    "x_dash = np.arange(img_array.shape[2])\n",
    "b = volume.TransformPhysicalPointToIndex([o[0], o[1]+t[0], o[2]])[1]\n",
    "y_dash = linear_function(x_dash, np.tan(np.deg2rad(z[0])), b)\n",
    "ax1.set_title(f\"Section {0}\")\n",
    "line = ax1.plot(x_dash, y_dash, linestyle=\"--\", color=\"red\")[0]\n",
    "ax1.set_title('Slice cut')\n",
    "\n",
    "# ACTION\n",
    "slice = slice_volume(z_rotation=0., x_rotation=0., translation=[0, 165, 0], volume=volume)\n",
    "slice = sitk.GetArrayFromImage(slice)[:, 0, :]\n",
    "ax2.imshow(slice, origin='lower', aspect=6)\n",
    "ax2.set_title(f'Slice {0}')\n",
    "\n",
    "# OBSERVATION\n",
    "clusters = {}\n",
    "clusters['bones'] = find_DBSCAN_clusters(tissues['bones'], slice, eps=4.1, min_samples=46)\n",
    "clusters['tendins'] = find_DBSCAN_clusters(tissues['tendins'], slice, eps=4.1, min_samples=46)\n",
    "clusters['ulnar'] = find_DBSCAN_clusters(tissues['ulnar'], slice, eps=2.5, min_samples=18)\n",
    "ax3.set_title('Clusters')\n",
    "ax3 = show_clusters(clusters, slice)\n",
    "# REWARD\n",
    "loss = loss_fct(clusters)\n",
    "plt.text(0, 0, f\"Loss: {loss:.2f}\", fontsize=12, color='red')\n",
    "\n",
    "plt.show()\n"
   ]
  },
  {
   "cell_type": "code",
   "execution_count": null,
   "metadata": {},
   "outputs": [],
   "source": []
  }
 ],
 "metadata": {
  "kernelspec": {
   "display_name": "med_im",
   "language": "python",
   "name": "python3"
  },
  "language_info": {
   "codemirror_mode": {
    "name": "ipython",
    "version": 3
   },
   "file_extension": ".py",
   "mimetype": "text/x-python",
   "name": "python",
   "nbconvert_exporter": "python",
   "pygments_lexer": "ipython3",
   "version": "3.9.18"
  }
 },
 "nbformat": 4,
 "nbformat_minor": 2
}
