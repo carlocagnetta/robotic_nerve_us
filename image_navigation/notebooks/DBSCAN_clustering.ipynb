{
 "cells": [
  {
   "cell_type": "markdown",
   "metadata": {},
   "source": [
    "# DBSCAN Clustering search"
   ]
  },
  {
   "cell_type": "code",
   "execution_count": null,
   "metadata": {},
   "outputs": [],
   "source": [
    "# import\n",
    "import sys\n",
    "sys.path.append('../')\n",
    "\n",
    "import logging\n",
    "import numpy as np\n",
    "import nibabel as nib\n",
    "import matplotlib.pyplot as plt\n",
    "\n",
    "from visualization_utils import show_clusters\n",
    "from tissue_clustering import Tissues\n",
    "from loss import loss_fct\n",
    "\n",
    "# Set up the logger\n",
    "logging.basicConfig(level=logging.INFO)\n",
    "logger = logging.getLogger()"
   ]
  },
  {
   "cell_type": "code",
   "execution_count": null,
   "metadata": {},
   "outputs": [],
   "source": [
    "mri_1_label = nib.load('..\\MRI\\Labels\\labels_00001.nii')\n",
    "mri_1_label_data = mri_1_label.get_fdata()\n",
    "mri_1_label_data.shape"
   ]
  },
  {
   "cell_type": "code",
   "execution_count": null,
   "metadata": {},
   "outputs": [],
   "source": [
    "tissues = { \"bones\": 20,\n",
    "            \"tendins\": 2,\n",
    "            \"ulnar\": 3,}"
   ]
  },
  {
   "cell_type": "code",
   "execution_count": null,
   "metadata": {},
   "outputs": [],
   "source": [
    "tissuesClass = Tissues(tissues_dict=tissues)\n",
    "tissuesClass.get_tissues()"
   ]
  },
  {
   "cell_type": "markdown",
   "metadata": {},
   "source": [
    "DBSCAN might be a better clustering technique that offers more flexibility. In this script we are going to analyze this and similar clustering algorithms and their performance on our loss function"
   ]
  },
  {
   "cell_type": "code",
   "execution_count": null,
   "metadata": {},
   "outputs": [],
   "source": [
    "from sklearn.cluster import DBSCAN\n",
    "\n",
    "def find_DBSCAN_clusters(label: int, slice: np.array, eps: float, min_samples: int) -> None:\n",
    "        \n",
    "    # binary filter for the label\n",
    "    binary_mask = (slice == label)\n",
    "\n",
    "    # Check if there are tissues with given label\n",
    "    if np.all(binary_mask == False):\n",
    "        print(\"No tissues to cluster. Please set values using set_values method.\")\n",
    "        return []\n",
    "    \n",
    "    # find label positions, upon which clustering wil be defined\n",
    "    label_positions = np.array(list(zip(*np.where(binary_mask))))\n",
    "\n",
    "    # define clusterer\n",
    "    clusterer = DBSCAN(eps=eps, min_samples=min_samples)\n",
    "\n",
    "    # find cluster prediction\n",
    "    labels = clusterer.fit_predict(label_positions)\n",
    "    n_labels = len(np.unique(labels)) - 1 # noise cluster has label -1, we dont take it into account\n",
    "    print(f\"Found {n_labels} clusters\")\n",
    "\n",
    "    # Extract clusters and their centers\n",
    "    cluster_data = []\n",
    "\n",
    "    for label in range(n_labels):\n",
    "        label_to_pos_array = label_positions[labels == label] # get positions of each cluster\n",
    "        cluster_centers = np.mean(label_to_pos_array, axis=0) # mean of each column\n",
    "        # Save both the cluster and center under the same key\n",
    "        cluster_data.append({'cluster': label_to_pos_array,\n",
    "                            'center': cluster_centers})\n",
    "\n",
    "    return cluster_data"
   ]
  },
  {
   "cell_type": "code",
   "execution_count": null,
   "metadata": {},
   "outputs": [],
   "source": [
    "\n",
    "def DBSCAN_cluster_iter(tissues: dict, slice: np.ndarray, eps: float, min_samples: int) -> dict:\n",
    "    # store clsuters of tissues in a dict\n",
    "    tissues_clusters = {}\n",
    "    \n",
    "    for tissue in tissues:\n",
    "        print(f\"Finding {tissue} clusters, with value {tissues[tissue]}:\")\n",
    "        # find clusters for each tissue\n",
    "        tissues_clusters[tissue] = (find_DBSCAN_clusters(tissues[tissue], slice, eps, min_samples))\n",
    "\n",
    "        # print the identified clusters and their centers\n",
    "        for index, data in enumerate(tissues_clusters[tissue]):\n",
    "            print(f\"Center of {tissue} cluster {index}: {data['center']}\")\n",
    "    print(\"---------------------------------------\\n\")     \n",
    "    return tissues_clusters"
   ]
  },
  {
   "cell_type": "code",
   "execution_count": null,
   "metadata": {},
   "outputs": [],
   "source": [
    "clusters_680 = {}\n",
    "clusters_680['bones'] = find_DBSCAN_clusters(tissues['bones'], mri_1_label_data[:, 680, :], eps=2.5, min_samples=20)\n",
    "clusters_680['tendins'] = find_DBSCAN_clusters(tissues['tendins'], mri_1_label_data[:, 680, :], eps=2.5, min_samples=20)\n",
    "clusters_680['ulnar'] = find_DBSCAN_clusters(tissues['ulnar'], mri_1_label_data[:, 680, :], eps=2., min_samples=12)\n",
    "\n",
    "show_clusters(clusters_680, mri_1_label_data[:, 680, :])\n",
    "\n",
    "plt.show()"
   ]
  },
  {
   "cell_type": "code",
   "execution_count": null,
   "metadata": {},
   "outputs": [],
   "source": [
    "sweep_loss = []\n",
    "\n",
    "for i in range(mri_1_label_data.shape[1]):\n",
    "    clusters = {}\n",
    "    clusters['bones'] = find_DBSCAN_clusters(tissues['bones'], mri_1_label_data[:, i, :], eps=4.1, min_samples=46)\n",
    "    clusters['tendins'] = find_DBSCAN_clusters(tissues['tendins'], mri_1_label_data[:, i, :], eps=4.1, min_samples=46)\n",
    "    clusters['ulnar'] = find_DBSCAN_clusters(tissues['ulnar'], mri_1_label_data[:, i, :], eps=2.5, min_samples=18)\n",
    "\n",
    "    print(f\"Loss for slice {i}: {loss_fct(clusters)}\")    \n",
    "    sweep_loss.append(loss_fct(clusters))\n",
    "\n",
    "# Plot the loss results over the length of the data\n",
    "plt.plot(range(len(sweep_loss)), sweep_loss, marker='o')\n",
    "\n",
    "# Add labels and title\n",
    "plt.xlabel('Data Length')\n",
    "plt.ylabel('Loss')\n",
    "plt.title('Loss Function Results')\n",
    "\n",
    "# Show the plot\n",
    "plt.show()"
   ]
  },
  {
   "cell_type": "code",
   "execution_count": null,
   "metadata": {},
   "outputs": [],
   "source": [
    "# Find indices where the loss is equal to 0\n",
    "zero_loss_indices = np.where(np.array(sweep_loss) == 0)[0]\n",
    "print(f\"{len(zero_loss_indices)} indices return a zero loss: \", zero_loss_indices)\n",
    "\n",
    "# Create a subplot for each image with 0 loss\n",
    "fig, axes = plt.subplots(2, 4, figsize=(21, 7))\n",
    "\n",
    "axes = axes.flatten()\n",
    "for i, idx in enumerate(zero_loss_indices):\n",
    "    # Plot the image\n",
    "    axes[i].imshow(mri_1_label_data[:, idx, :].T, aspect=6)\n",
    "    axes[i].set_title(f'Index: {idx}, Loss: {sweep_loss[idx]:.2f}')\n",
    "    axes[i].axis('off')\n",
    "\n",
    "plt.show()"
   ]
  },
  {
   "cell_type": "code",
   "execution_count": null,
   "metadata": {},
   "outputs": [],
   "source": [
    "from sklearn.cluster import HDBSCAN\n",
    "\n",
    "def find_HDBSCAN_clusters(label: int, slice: np.array, \n",
    "                          min_cluster_size: int = 5, min_samples: int = None, \n",
    "                          eps: float = 0.0, max_cluster_size: int = None) -> None:\n",
    "        \n",
    "    # binary filter for the label\n",
    "    binary_mask = (slice == label)\n",
    "\n",
    "    # Check if there are tissues with given label\n",
    "    if np.all(binary_mask == False):\n",
    "        print(\"No tissues to cluster. Please set values using set_values method.\")\n",
    "        return []\n",
    "    \n",
    "    # find label positions, upon which clustering wil be defined\n",
    "    label_positions = np.array(list(zip(*np.where(binary_mask))))\n",
    "\n",
    "    # define clusterer\n",
    "    clusterer = HDBSCAN(min_cluster_size=min_cluster_size, min_samples=min_samples,\n",
    "                        cluster_selection_epsilon=eps, max_cluster_size=max_cluster_size, allow_single_cluster=True)\n",
    "\n",
    "    # find cluster prediction\n",
    "    labels = clusterer.fit_predict(label_positions)\n",
    "    n_labels = len(np.unique(labels)) - 1 # noise cluster has label -1, we dont take it into account\n",
    "    print(f\"Found {n_labels} clusters\")\n",
    "\n",
    "    # Extract clusters and their centers\n",
    "    cluster_data = []\n",
    "\n",
    "    for label in range(n_labels):\n",
    "        label_to_pos_array = label_positions[labels == label] # get positions of each cluster\n",
    "        cluster_centers = np.mean(label_to_pos_array, axis=0) # mean of each column\n",
    "        # Save both the cluster and center under the same key\n",
    "        cluster_data.append({'cluster': label_to_pos_array,\n",
    "                            'center': cluster_centers})\n",
    "\n",
    "    return cluster_data"
   ]
  },
  {
   "cell_type": "code",
   "execution_count": null,
   "metadata": {},
   "outputs": [],
   "source": [
    "HDB_cluster = {}\n",
    "HDB_cluster['bones'] = find_HDBSCAN_clusters(tissues['bones'], mri_1_label_data[:, 673, :], \n",
    "                                             min_cluster_size=50, max_cluster_size=350, eps=2.5, min_samples=16)\n",
    "\n",
    "HDB_cluster['tendins'] = find_HDBSCAN_clusters(tissues['tendins'], mri_1_label_data[:, 673, :], \n",
    "                                             min_cluster_size=20, max_cluster_size=200)\n",
    "\n",
    "HDB_cluster['ulnar'] = find_HDBSCAN_clusters(tissues['ulnar'], mri_1_label_data[:, 673, :], \n",
    "                                             min_cluster_size=6, max_cluster_size=30)\n",
    "show_clusters(HDB_cluster, mri_1_label_data[:, 673, :])"
   ]
  },
  {
   "cell_type": "code",
   "execution_count": null,
   "metadata": {},
   "outputs": [],
   "source": [
    "# print the size of each cluster\n",
    "for tissue in HDB_cluster:\n",
    "    for index, data in enumerate(HDB_cluster[tissue]):\n",
    "        print(f\"Size of {tissue} cluster {index}: {len(data['cluster'])}\")"
   ]
  },
  {
   "cell_type": "code",
   "execution_count": null,
   "metadata": {},
   "outputs": [],
   "source": []
  }
 ],
 "metadata": {
  "kernelspec": {
   "display_name": "med_im",
   "language": "python",
   "name": "python3"
  },
  "language_info": {
   "codemirror_mode": {
    "name": "ipython",
    "version": 3
   },
   "file_extension": ".py",
   "mimetype": "text/x-python",
   "name": "python",
   "nbconvert_exporter": "python",
   "pygments_lexer": "ipython3",
   "version": "3.9.18"
  }
 },
 "nbformat": 4,
 "nbformat_minor": 2
}
