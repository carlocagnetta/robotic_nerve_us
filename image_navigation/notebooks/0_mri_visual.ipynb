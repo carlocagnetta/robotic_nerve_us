{
 "cells": [
  {
   "cell_type": "markdown",
   "metadata": {},
   "source": [
    "# Visualization of MRI data with labels"
   ]
  },
  {
   "cell_type": "code",
   "execution_count": null,
   "metadata": {},
   "outputs": [],
   "source": [
    "# import\n",
    "import os\n",
    "import numpy as np\n",
    "\n",
    "import nibabel as nib\n",
    "\n",
    "import matplotlib.pyplot as plt"
   ]
  },
  {
   "cell_type": "markdown",
   "metadata": {},
   "source": [
    "## Dataset visualization"
   ]
  },
  {
   "cell_type": "code",
   "execution_count": null,
   "metadata": {},
   "outputs": [],
   "source": [
    "mri_1 = nib.load('../MRI/00001.nii')\n",
    "mri_1_data = mri_1.get_fdata()\n",
    "mri_1_data.shape"
   ]
  },
  {
   "cell_type": "code",
   "execution_count": null,
   "metadata": {},
   "outputs": [],
   "source": [
    "def show(slices, size, col=5, cmap=None, aspect=6):\n",
    "   rows = -(-len(slices)//col)\n",
    "   fig, axes = plt.subplots(rows, col, figsize=(15,2*rows))\n",
    "   # Flatten the axes array to simplify indexing\n",
    "   axes = axes.flatten()\n",
    "   for i, slice in enumerate(slices):\n",
    "       axes[i].imshow(slice.T, cmap=cmap, origin=\"lower\", aspect=aspect)\n",
    "       axes[i].set_title(f'Slice {size - i*5}')  # Set titles if desired\n",
    "   # Adjust layout to prevent overlap of titles\n",
    "   plt.tight_layout()"
   ]
  },
  {
   "cell_type": "code",
   "execution_count": null,
   "metadata": {},
   "outputs": [],
   "source": [
    "def show_slices(data, start, end, lap, col=5, cmap=None, aspect=6):\n",
    "   \"\"\" Function to display row of image slices \"\"\"\n",
    "   it = 0\n",
    "   slices = []\n",
    "   for slice in range(start, 0, -lap):\n",
    "       it += 1\n",
    "       slices.append(data[:, slice, :])\n",
    "       if it==end: break\n",
    "   show(slices, data.shape[1], col, cmap, aspect)\n",
    "    "
   ]
  },
  {
   "cell_type": "code",
   "execution_count": null,
   "metadata": {},
   "outputs": [],
   "source": [
    "show_slices(mri_1_data, mri_1_data.shape[1]-1, 25, 5, cmap=\"gray\")"
   ]
  },
  {
   "cell_type": "markdown",
   "metadata": {},
   "source": [
    "## Label dataset"
   ]
  },
  {
   "cell_type": "code",
   "execution_count": null,
   "metadata": {},
   "outputs": [],
   "source": [
    "mri_1_label = nib.load('..\\MRI\\Labels\\labels_00001.nii')\n",
    "mri_1_label_data = mri_1_label.get_fdata()\n",
    "mri_1_label_data.shape"
   ]
  },
  {
   "cell_type": "code",
   "execution_count": null,
   "metadata": {},
   "outputs": [],
   "source": [
    "show_slices(mri_1_label_data,  mri_1_label_data.shape[1]-1, 25, 5)"
   ]
  },
  {
   "cell_type": "code",
   "execution_count": null,
   "metadata": {},
   "outputs": [],
   "source": [
    "print(\"Mri label data: \\n\", np.max(mri_1_label_data))\n",
    "print(\"Mri data: \\n\", np.max(mri_1_data))\n"
   ]
  },
  {
   "cell_type": "markdown",
   "metadata": {},
   "source": [
    "## Image transformation"
   ]
  },
  {
   "cell_type": "code",
   "execution_count": null,
   "metadata": {},
   "outputs": [],
   "source": [
    "rot_90_data = np.rot90(mri_1_label_data, k=1, axes=(0, 2))\n",
    "rot_90_img = nib.Nifti1Image(rot_90_data, np.eye(4))\n",
    "nib.save(rot_90_img, '../outputs/rot_90_img.nii')\n",
    "\n",
    "# Display the original and transformed images (slices)\n",
    "original_slice = mri_1_label_data[:, mri_1_label_data.shape[1]-20, :]\n",
    "transformed_slice = rot_90_img.get_fdata()[:, rot_90_img.shape[1]-20, :]\n",
    "\n",
    "plt.figure(figsize=(12, 6))\n",
    "plt.subplot(1, 2, 1)\n",
    "plt.imshow(original_slice.T, aspect=6)\n",
    "plt.title('Original Image Slice')\n",
    "\n",
    "plt.subplot(1, 2, 2)\n",
    "plt.imshow(transformed_slice.T, aspect=1/6)\n",
    "plt.title('Transformed Image Slice')\n",
    "\n",
    "plt.show()\n"
   ]
  },
  {
   "cell_type": "markdown",
   "metadata": {},
   "source": [
    "This seems working.\n",
    "\n",
    "Let's try to apply the transformation voxel for voxel!"
   ]
  },
  {
   "cell_type": "markdown",
   "metadata": {},
   "source": [
    "### Padding\n",
    "In order to have enough space to apply the rotation in all dimension, padding might be useful"
   ]
  },
  {
   "cell_type": "code",
   "execution_count": null,
   "metadata": {},
   "outputs": [],
   "source": [
    "def padding(original_array):\n",
    "    # Find the maximum dimension\n",
    "    max_dim = max(original_array.shape)\n",
    "\n",
    "    # Calculate padding for each dimension (left and right)\n",
    "    padding_x_left = (max_dim - original_array.shape[0]) // 2\n",
    "    padding_x_right = max_dim - original_array.shape[0] - padding_x_left\n",
    "\n",
    "    padding_y_left = (max_dim - original_array.shape[1]) // 2\n",
    "    padding_y_right = max_dim - original_array.shape[1] - padding_y_left\n",
    "\n",
    "    padding_z_left = (max_dim - original_array.shape[2]) // 2\n",
    "    padding_z_right = max_dim - original_array.shape[2] - padding_z_left\n",
    "\n",
    "    # Pad the array with zeros\n",
    "    padded_array = np.pad(original_array, ((padding_x_left, padding_x_right), \n",
    "                                        (padding_y_left, padding_y_right), \n",
    "                                        (padding_z_left, padding_z_right)), \n",
    "                        mode='constant')\n",
    "\n",
    "    # Verify the shapes\n",
    "    print(\"Original Array Shape:\", original_array.shape)\n",
    "    print(\"Padded Array Shape:\", padded_array.shape)\n",
    "\n",
    "    return padded_array"
   ]
  },
  {
   "cell_type": "code",
   "execution_count": null,
   "metadata": {},
   "outputs": [],
   "source": [
    "interest_data = mri_1_label_data[20:490,530:,:]\n",
    "interest_data.shape"
   ]
  },
  {
   "cell_type": "code",
   "execution_count": null,
   "metadata": {},
   "outputs": [],
   "source": [
    "padded_array = padding(interest_data)"
   ]
  },
  {
   "cell_type": "code",
   "execution_count": null,
   "metadata": {},
   "outputs": [],
   "source": [
    "np.max(padded_array)\n",
    "show_slices(padded_array, 400, 5, 1, aspect=1)"
   ]
  },
  {
   "cell_type": "markdown",
   "metadata": {},
   "source": [
    "### Regular Grid Interpolation\n",
    "In the following I tried out a tutorial that uses RegularGridInterpolatin, which can be found [here](https://medium.com/vitrox-publication/rotation-of-voxels-in-3d-space-using-python-c3b2fc0afda1).\n",
    "\n",
    "Voxel is a 3D equivalent of a pixel in a 2D image (VOlume piXEL). The data is represented by a 3D array where the value of a specific element (voxel) in the array represents some physical properties (color, density) in the space.\n",
    "\n",
    "The rotational operation for 3D volumetric data encoded in these 2 formats can be easily achieved by multiplying a rotational matrix to the coordinates of the points. However, the rotation matrix cannot work directly on voxel data as the data are not representing coordinates. However, the coordinate of a voxel is derived from its relative position in the 3D array, a coordinate system can be constructed and the rotation can be performed by rotating the coordinate system in the opposite direction.\n",
    "\n",
    "For 3D volumetric data consisting of voxels (or 3D array), the rotation operation can only be achieved through ndimage module of the SciPy package "
   ]
  },
  {
   "cell_type": "code",
   "execution_count": null,
   "metadata": {},
   "outputs": [],
   "source": [
    "# Create 3D coordinate grids\n",
    "ex_x = np.linspace(0, 5, 6)\n",
    "ex_y = np.linspace(0, 3, 4)\n",
    "ex_z = np.linspace(0, 2, 3)\n",
    "\n",
    "ex_xx, ex_yy, ex_zz = np.meshgrid(ex_x, ex_y, ex_z, indexing='ij')\n",
    "\n",
    "print(\"xx: \\n\", ex_xx[0,:3,:3])\n",
    "print(\"yy: \\n\", ex_yy[:3,0,:3])\n",
    "print(\"zz: \\n\", ex_zz[:3,:3,0])\n",
    "\n",
    "# Assume the center of the coordinate system is (2, 1, 1)\n",
    "x_center, y_center, z_center = 2, 1, 1\n",
    "\n",
    "# Shift the coordinate system to have the center at (2, 1, 1)\n",
    "ex_coor = np.array([ex_xx - x_center, ex_yy - y_center, ex_zz - z_center])\n",
    "\n",
    "print(\"xx centered: \\n\", ex_coor[0,0,:3,:3])\n",
    "print(\"yy centered: \\n\", ex_coor[1,:3,0,:3])\n",
    "print(\"zz centered: \\n\", ex_coor[2,:3,:3,0])\n",
    "\n",
    "# Plot original and shifted coordinates\n",
    "fig = plt.figure(figsize=(15, 5))\n",
    "\n",
    "# Original coordinates\n",
    "ax1 = fig.add_subplot(121, projection='3d')\n",
    "ax1.scatter(ex_xx, ex_yy, ex_zz, c='b', label='Original Coordinates')\n",
    "ax1.set_title('Original Coordinates')\n",
    "ax1.set_xlabel('X-axis')\n",
    "ax1.set_ylabel('Y-axis')\n",
    "ax1.set_zlabel('Z-axis')\n",
    "ax1.legend()\n",
    "\n",
    "# Shifted coordinates\n",
    "ax2 = fig.add_subplot(122, projection='3d')\n",
    "ax2.scatter(ex_coor[0], ex_coor[1], ex_coor[2], c='r', label='Shifted Coordinates')\n",
    "ax2.set_title('Shifted Coordinates (Center at (2, 1, 1))')\n",
    "ax2.set_xlabel('X-axis')\n",
    "ax2.set_ylabel('Y-axis')\n",
    "ax2.set_zlabel('Z-axis')\n",
    "ax2.legend()\n",
    "\n",
    "plt.tight_layout()\n",
    "plt.show()\n"
   ]
  },
  {
   "cell_type": "markdown",
   "metadata": {},
   "source": [
    "We want to do the same as in this example with our multi dimensional array"
   ]
  },
  {
   "cell_type": "code",
   "execution_count": null,
   "metadata": {},
   "outputs": [],
   "source": [
    "from scipy.interpolate import RegularGridInterpolator\n",
    "\n",
    "trans_mat = np.eye(3)\n",
    "image = padded_array\n",
    "print(image.shape)"
   ]
  },
  {
   "cell_type": "markdown",
   "metadata": {},
   "source": [
    "Let's create a meshgrid for every dimension"
   ]
  },
  {
   "cell_type": "code",
   "execution_count": null,
   "metadata": {},
   "outputs": [],
   "source": [
    "# def img_rotation(trans_mat, image):\n",
    "# Construct the coordinate (𝑥𝑖,𝑦𝑖,𝑧𝑖) for all the voxels with mesh grid from NumPy.\n",
    "Nx, Ny, Nz = image.shape\n",
    "x = np.linspace(0, Nx - 1, Nx)\n",
    "y = np.linspace(0, Ny - 1, Ny)\n",
    "z = np.linspace(0, Nz - 1, Nz)\n",
    "xx, yy, zz = np.meshgrid(x, y, z, indexing='ij')"
   ]
  },
  {
   "cell_type": "code",
   "execution_count": null,
   "metadata": {},
   "outputs": [],
   "source": [
    "print(\"xx: \\n\", xx[0,:5,:5])\n",
    "print(\"yy: \\n\", yy[:5,0,:5])\n",
    "print(\"zz: \\n\", zz[:5,:5,0])"
   ]
  },
  {
   "cell_type": "markdown",
   "metadata": {},
   "source": [
    "Then let's shift the origin of the meshgrid to the center of it"
   ]
  },
  {
   "cell_type": "code",
   "execution_count": null,
   "metadata": {},
   "outputs": [],
   "source": [
    "mri_vox_center = (np.array(image.shape) - 1) // 2\n",
    "x_center, y_center, z_center = mri_vox_center\n",
    "print(\"Voxel center: \", mri_vox_center)\n",
    "coor = np.array([xx - x_center, yy - y_center, zz - z_center])"
   ]
  },
  {
   "cell_type": "code",
   "execution_count": null,
   "metadata": {},
   "outputs": [],
   "source": [
    "print(\"coor xx: \\n\", coor[0,0,:5,:5])\n",
    "print(\"coor yy: \\n\", coor[1,:5,0,:5])\n",
    "print(\"coor zz: \\n\", coor[2,:5,:5,0])\n"
   ]
  },
  {
   "cell_type": "code",
   "execution_count": null,
   "metadata": {},
   "outputs": [],
   "source": [
    "print(\"Coor shape: \", coor.shape)\n",
    "center = np.where(coor == 0)\n",
    "print(\"center: \", np.shape(center))"
   ]
  },
  {
   "cell_type": "markdown",
   "metadata": {},
   "source": [
    "As we can see, there are 613'254 null entries, which makes sense. This is a plane of zeros for every dimension"
   ]
  },
  {
   "cell_type": "code",
   "execution_count": null,
   "metadata": {},
   "outputs": [],
   "source": [
    "606*864 + 864*61 + 61*606"
   ]
  },
  {
   "cell_type": "code",
   "execution_count": null,
   "metadata": {},
   "outputs": [],
   "source": [
    "print(\"X center: \", coor[0, x_center, y_center, z_center])\n",
    "print(\"Y center: \", coor[1, x_center, y_center, z_center])\n",
    "print(\"Z center: \", coor[2, x_center, y_center, z_center])\n",
    "\n",
    "print(\"coor xx at center: \\n\", coor[0,x_center,:5,:5])\n",
    "print(\"coor yy at center: \\n\", coor[1,:5,y_center,:5])\n",
    "print(\"coor zz at center: \\n\", coor[2,:5,:5,z_center])"
   ]
  },
  {
   "cell_type": "markdown",
   "metadata": {},
   "source": [
    "Now we need to apply the rotation to the coordinates"
   ]
  },
  {
   "cell_type": "code",
   "execution_count": null,
   "metadata": {},
   "outputs": [],
   "source": [
    "# Define a 3x3 rotation matrix (example: 45 degrees around the z-axis)\n",
    "theta = np.radians(45)\n",
    "rotation_matrix = np.array([\n",
    "    [np.cos(theta), -np.sin(theta), 0],\n",
    "    [np.sin(theta), np.cos(theta), 0],\n",
    "    [0, 0, 1]\n",
    "])\n",
    "\n",
    "# Apply rotation to the coor_reshaped matrix\n",
    "coor_reshaped = ex_coor.reshape(3, -1)\n",
    "rotated_coor_reshaped = np.dot(rotation_matrix, coor_reshaped)\n",
    "\n",
    "# Reshape back to the original shape\n",
    "rotated_coor = rotated_coor_reshaped.reshape(3, *ex_coor.shape[1:])\n",
    "\n",
    "# Plot original and rotated coordinates\n",
    "fig = plt.figure(figsize=(15, 5))\n",
    "\n",
    "# Original coordinates\n",
    "ax1 = fig.add_subplot(121, projection='3d')\n",
    "ax1.scatter(ex_xx, ex_yy, ex_zz, c='b', label='Original Coordinates')\n",
    "ax1.set_title('Original Coordinates')\n",
    "ax1.set_xlabel('X-axis')\n",
    "ax1.set_ylabel('Y-axis')\n",
    "ax1.set_zlabel('Z-axis')\n",
    "ax1.legend()\n",
    "\n",
    "# Rotated coordinates\n",
    "ax2 = fig.add_subplot(122, projection='3d')\n",
    "ax2.scatter(rotated_coor[0], rotated_coor[1], rotated_coor[2], c='r', label='Rotated Coordinates')\n",
    "ax2.set_title('Rotated Coordinates')\n",
    "ax2.set_xlabel('X-axis')\n",
    "ax2.set_ylabel('Y-axis')\n",
    "ax2.set_zlabel('Z-axis')\n",
    "ax2.legend()\n",
    "\n",
    "plt.tight_layout()\n",
    "plt.show()"
   ]
  },
  {
   "cell_type": "markdown",
   "metadata": {},
   "source": [
    "Here we need to do the same thing"
   ]
  },
  {
   "cell_type": "code",
   "execution_count": null,
   "metadata": {},
   "outputs": [],
   "source": [
    "# Apply rotation to the coor_reshaped matrix\n",
    "coor_reshaped = coor.reshape(3, -1)\n",
    "\n",
    "# Evaluate the new coordinate (𝑥𝑖′,𝑦𝑖′,𝑧𝑖′) by multiplying matrix 𝑀−1 to the original coordinate (𝑥𝑖,𝑦𝑖,𝑧𝑖).\n",
    "rotated_coor_reshaped = np.dot(trans_mat, coor_reshaped)\n",
    "\n",
    "# Reshape back to the original shape\n",
    "coor_prime = rotated_coor_reshaped.reshape(3, *coor.shape[1:])\n",
    "\n",
    "print(coor_prime.shape)"
   ]
  },
  {
   "cell_type": "code",
   "execution_count": null,
   "metadata": {},
   "outputs": [],
   "source": [
    "xx_prime = coor_prime[0] + x_center\n",
    "yy_prime = coor_prime[1] + y_center\n",
    "zz_prime = coor_prime[2] + z_center"
   ]
  },
  {
   "cell_type": "code",
   "execution_count": null,
   "metadata": {},
   "outputs": [],
   "source": [
    "\n",
    "# Identify the set of points (voxels) that require interpolation, \n",
    "# eliminate the points with new coordinates which lie beyond the region bounded by the cuboid of the original volume, \n",
    "# i.e. 𝑥′𝑖∉{𝑝|0≤𝑝≤𝑁𝑥−1}，𝑦′𝑖∉{𝑝|0≤𝑝≤𝑁𝑦−1}，𝑧′𝑖∉{𝑝|0≤𝑝≤𝑁𝑧−1}.\n",
    "x_valid1 = xx_prime>=0\n",
    "x_valid2 = xx_prime<=Nx-1\n",
    "y_valid1 = yy_prime>=0\n",
    "y_valid2 = yy_prime<=Ny-1\n",
    "z_valid1 = zz_prime>=0\n",
    "z_valid2 = zz_prime<=Nz-1\n",
    "valid_voxel = x_valid1 * x_valid2 * y_valid1 * y_valid2 * z_valid1 * z_valid2\n",
    "x_valid_idx, y_valid_idx, z_valid_idx = np.where(valid_voxel > 0)"
   ]
  },
  {
   "cell_type": "code",
   "execution_count": null,
   "metadata": {},
   "outputs": [],
   "source": [
    "\n",
    "# Initialize a 3D array with size the same as the original 3D array (use for storing transformed results).\n",
    "image_transformed_data = np.zeros((Nx, Ny, Nz))\n",
    "\n",
    "# Interpolate using the function scipy.interpolate.RegularGridInterpolator(), return the values to the transformed array according to their respective indices.\n",
    "data_w_coor = RegularGridInterpolator((x,y,z), image, method=\"nearest\")\n",
    "interp_points = np.array([xx_prime[x_valid_idx, y_valid_idx, z_valid_idx],\n",
    "                          yy_prime[x_valid_idx, y_valid_idx, z_valid_idx],\n",
    "                          zz_prime[x_valid_idx, y_valid_idx, z_valid_idx],]).T\n",
    "interp_result = data_w_coor(interp_points)\n",
    "image_transformed_data[x_valid_idx, y_valid_idx, z_valid_idx] = interp_result"
   ]
  },
  {
   "cell_type": "code",
   "execution_count": null,
   "metadata": {},
   "outputs": [],
   "source": [
    "padding_difference = np.array(padded_array.shape) - np.array(interest_data.shape)\n",
    "padding_difference"
   ]
  },
  {
   "cell_type": "code",
   "execution_count": null,
   "metadata": {},
   "outputs": [],
   "source": [
    "np.savetxt(\"../outputs/original_array.txt\", mri_1_label_data[:, mri_1_label_data.shape[1]-200, :], fmt='%.3f')\n",
    "np.savetxt(\"../outputs/transformed_array.txt\", image_transformed_data[:, :, image_transformed_data.shape[1]-(130+padding_difference[1]//2)], fmt='%.3f')\n"
   ]
  },
  {
   "cell_type": "code",
   "execution_count": null,
   "metadata": {},
   "outputs": [],
   "source": [
    "print(np.max(image_transformed_data))\n",
    "# Display the original and transformed images (slices)\n",
    "original_slice = padded_array[:, padded_array.shape[1]-240, :]\n",
    "transformed_slice = image_transformed_data[:, image_transformed_data.shape[1]-240, :]\n",
    "\n",
    "plt.figure(figsize=(12, 6))\n",
    "plt.subplot(1, 2, 1)\n",
    "plt.imshow(original_slice, origin='upper')\n",
    "plt.title('Original Image Slice')\n",
    "\n",
    "plt.subplot(1, 2, 2)\n",
    "plt.imshow(transformed_slice, origin='upper')\n",
    "plt.title('Transformed Image Slice')\n",
    "\n",
    "plt.show()"
   ]
  },
  {
   "cell_type": "code",
   "execution_count": null,
   "metadata": {},
   "outputs": [],
   "source": [
    "image_transformed = nib.Nifti1Image(image_transformed_data, np.eye(4))\n",
    "nib.save(image_transformed, '../outputs/image_transformed.nii.gz')"
   ]
  }
 ],
 "metadata": {
  "kernelspec": {
   "display_name": "med_im",
   "language": "python",
   "name": "python3"
  },
  "language_info": {
   "codemirror_mode": {
    "name": "ipython",
    "version": 3
   },
   "file_extension": ".py",
   "mimetype": "text/x-python",
   "name": "python",
   "nbconvert_exporter": "python",
   "pygments_lexer": "ipython3",
   "version": "3.9.18"
  }
 },
 "nbformat": 4,
 "nbformat_minor": 2
}
