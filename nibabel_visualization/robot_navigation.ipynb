{
 "cells": [
  {
   "cell_type": "code",
   "execution_count": 2,
   "metadata": {},
   "outputs": [
    {
     "ename": "ModuleNotFoundError",
     "evalue": "No module named 'moveit_commander'",
     "output_type": "error",
     "traceback": [
      "\u001b[0;31m---------------------------------------------------------------------------\u001b[0m",
      "\u001b[0;31mModuleNotFoundError\u001b[0m                       Traceback (most recent call last)",
      "Cell \u001b[0;32mIn[2], line 4\u001b[0m\n\u001b[1;32m      2\u001b[0m \u001b[38;5;28;01mimport\u001b[39;00m \u001b[38;5;21;01mcopy\u001b[39;00m\n\u001b[1;32m      3\u001b[0m \u001b[38;5;28;01mimport\u001b[39;00m \u001b[38;5;21;01mrospy\u001b[39;00m\n\u001b[0;32m----> 4\u001b[0m \u001b[38;5;28;01mimport\u001b[39;00m \u001b[38;5;21;01mmoveit_commander\u001b[39;00m\n\u001b[1;32m      5\u001b[0m \u001b[38;5;28;01mimport\u001b[39;00m \u001b[38;5;21;01mmoveit_msgs\u001b[39;00m\u001b[38;5;21;01m.\u001b[39;00m\u001b[38;5;21;01mmsg\u001b[39;00m\n\u001b[1;32m      6\u001b[0m \u001b[38;5;28;01mimport\u001b[39;00m \u001b[38;5;21;01mgeometry_msgs\u001b[39;00m\u001b[38;5;21;01m.\u001b[39;00m\u001b[38;5;21;01mmsg\u001b[39;00m\n",
      "\u001b[0;31mModuleNotFoundError\u001b[0m: No module named 'moveit_commander'"
     ]
    }
   ],
   "source": [
    "import sys\n",
    "import copy\n",
    "import rospy\n",
    "import moveit_commander\n",
    "import moveit_msgs.msg\n",
    "import geometry_msgs.msg\n",
    "from math import pi\n",
    "from std_msgs.msg import String\n",
    "from moveit_commander.conversions import pose_to_list"
   ]
  },
  {
   "cell_type": "code",
   "execution_count": null,
   "metadata": {},
   "outputs": [],
   "source": [
    "# Initialize 'moveit_commander' and a 'rospy' node:\n",
    "moveit_commander.roscpp_initialize(sys.argv)\n",
    "rospy.init_node('move_group_python_interface_tutorial', anonymous=True)\n",
    "\n",
    "## `PlanningSceneInterface` object: provides a remote interface\n",
    "## for getting, setting, and updating the robot's internal understanding of the\n",
    "## surrounding world:\n",
    "scene = moveit_commander.PlanningSceneInterface()\n",
    "\n",
    "## `MoveGroupCommander` object: interface to a planning group (group of joints).\n",
    "## In this tutorial the group is the primary\n",
    "## arm joints in the Panda robot, so we set the group's name to \"panda_arm\".\n",
    "## If you are using a different robot, change this value to the name of your robot\n",
    "## arm planning group.\n",
    "## This interface can be used to plan and execute motions:\n",
    "group_name = \"panda_arm\"\n",
    "move_group = moveit_commander.MoveGroupCommander(group_name)\n",
    "\n",
    "## `DisplayTrajectory` ROS publisher: display trajectories in Rviz:\n",
    "display_trajectory_publisher = rospy.Publisher(\n",
    "    \"/move_group/display_planned_path\",\n",
    "    moveit_msgs.msg.DisplayTrajectory,\n",
    "    queue_size=20,\n",
    ")\n",
    "\n",
    "\n",
    "# We can get the name of the reference frame for this robot:\n",
    "planning_frame = move_group.get_planning_frame()\n",
    "print(\"============ Planning frame: %s\" % planning_frame)\n",
    "\n",
    "# We can also print the name of the end-effector link for this group:\n",
    "eef_link = move_group.get_end_effector_link()\n",
    "print(\"============ End effector link: %s\" % eef_link)\n",
    "\n",
    "# We can get a list of all the groups in the robot:\n",
    "group_names = robot.get_group_names()\n",
    "print(\"============ Available Planning Groups:\", robot.get_group_names())\n",
    "\n",
    "# Sometimes for debugging it is useful to print the entire state of the\n",
    "# robot:\n",
    "print(\"============ Printing robot state\")\n",
    "print(robot.get_current_state())\n",
    "print(\"\")\n",
    "\n",
    "\n",
    "# We can get the joint values from the group and adjust some of the values:\n",
    "joint_goal = move_group.get_current_joint_values()\n",
    "joint_goal[0] = 0\n",
    "joint_goal[1] = -pi/4\n",
    "joint_goal[2] = 0\n",
    "joint_goal[3] = -pi/2\n",
    "joint_goal[4] = 0\n",
    "joint_goal[5] = pi/3\n",
    "joint_goal[6] = 0\n",
    "\n",
    "# The go command can be called with joint values, poses, or without any\n",
    "# parameters if you have already set the pose or joint target for the group\n",
    "move_group.go(joint_goal, wait=True)\n",
    "\n",
    "# Calling ``stop()`` ensures that there is no residual movement\n",
    "move_group.stop()"
   ]
  }
 ],
 "metadata": {
  "kernelspec": {
   "display_name": "Python 3 (ipykernel)",
   "language": "python",
   "name": "python3"
  }
 },
 "nbformat": 4,
 "nbformat_minor": 4
}
